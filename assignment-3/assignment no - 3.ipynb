{
 "cells": [
  {
   "cell_type": "code",
   "execution_count": 1,
   "id": "674fec38",
   "metadata": {},
   "outputs": [
    {
     "name": "stdout",
     "output_type": "stream",
     "text": [
      "twinkle, twinkle, little star,\n",
      "                  how I wonder what you are!\n",
      "                          up above the world so high,\n",
      "                          like a diamond in the sky.\n",
      "         twinkle, twinkle, little star,\n",
      "                  how I wonder what you are\n"
     ]
    }
   ],
   "source": [
    "# 1. write a python program to print the following string in a specific format(see the output)\n",
    "print('''twinkle, twinkle, little star,\n",
    "                  how I wonder what you are!\n",
    "                          up above the world so high,\n",
    "                          like a diamond in the sky.\n",
    "         twinkle, twinkle, little star,\n",
    "                  how I wonder what you are''')"
   ]
  },
  {
   "cell_type": "code",
   "execution_count": 2,
   "id": "511a745d",
   "metadata": {},
   "outputs": [
    {
     "name": "stdout",
     "output_type": "stream",
     "text": [
      "python version\n",
      "3.8.8 (default, Apr 13 2021, 15:08:03) [MSC v.1916 64 bit (AMD64)]\n",
      "version info.\n",
      "sys.version_info(major=3, minor=8, micro=8, releaselevel='final', serial=0)\n"
     ]
    }
   ],
   "source": [
    "# 2. write a python program to get the python version you are using?\n",
    "\n",
    "import sys\n",
    "print(\"python version\")\n",
    "print (sys.version)\n",
    "print(\"version info.\")\n",
    "print (sys.version_info)"
   ]
  },
  {
   "cell_type": "code",
   "execution_count": 3,
   "id": "4399562b",
   "metadata": {},
   "outputs": [
    {
     "name": "stdout",
     "output_type": "stream",
     "text": [
      "current date and time : \n",
      "2021-10-23  23:59:59\n"
     ]
    }
   ],
   "source": [
    "# 3. write a python program to display the current date and time.\n",
    "\n",
    "import datetime\n",
    "now = datetime.datetime.now()\n",
    "print(\"current date and time : \")\n",
    "print (now.strftime(\"%Y-%m-%d  %H:%M:%S\"))"
   ]
  },
  {
   "cell_type": "code",
   "execution_count": 4,
   "id": "e8e5f7a0",
   "metadata": {},
   "outputs": [
    {
     "name": "stdout",
     "output_type": "stream",
     "text": [
      "enter radius of the circle :3\n",
      "the area of the circle is :  28.274333882308138\n"
     ]
    }
   ],
   "source": [
    "# 4. write a python program which accepts the radius of a circle from the user and compute the area.\n",
    "\n",
    "r = int(input(\"enter radius of the circle :\"))\n",
    "import math\n",
    "area = math.pi*r*r\n",
    "print(\"the area of the circle is : \", area)"
   ]
  },
  {
   "cell_type": "code",
   "execution_count": 5,
   "id": "f734a2b8",
   "metadata": {},
   "outputs": [
    {
     "name": "stdout",
     "output_type": "stream",
     "text": [
      "enter your first name :syed\n",
      "enter your last name :osama\n",
      "osama syed\n"
     ]
    }
   ],
   "source": [
    "# 5. write a python program which accepts the user's first and last name and print them in reverse order with a space between them.\n",
    "\n",
    "first_name = input(\"enter your first name :\")\n",
    "last_name = input(\"enter your last name :\")\n",
    "print(last_name + ' ' + first_name)"
   ]
  },
  {
   "cell_type": "code",
   "execution_count": 6,
   "id": "4661dcc2",
   "metadata": {},
   "outputs": [
    {
     "name": "stdout",
     "output_type": "stream",
     "text": [
      "enetr the first number :5\n",
      "enter the second number :10\n",
      "the sum of the two numbers is : 15\n"
     ]
    }
   ],
   "source": [
    "# 6. write a python program which takes two inputs from user and print their addition.\n",
    "\n",
    "num_1 = int(input(\"enetr the first number :\"))\n",
    "num_2 = int(input(\"enter the second number :\"))\n",
    "print(\"the sum of the two numbers is :\", num_1+num_2)"
   ]
  },
  {
   "cell_type": "code",
   "execution_count": 7,
   "id": "28fbb389",
   "metadata": {},
   "outputs": [
    {
     "name": "stdout",
     "output_type": "stream",
     "text": [
      "enter the marks :80\n",
      "enter the marks :95\n",
      "enter the marks :87\n",
      "enter the marks :70\n",
      "enter the marks :78\n",
      "grade :A\n"
     ]
    }
   ],
   "source": [
    "# 7. write a python program which takes 5 inputs from user for different subject's marks, total it and generate ,mark sheet using grades?\n",
    "\n",
    "eng = int(input(\"enter the marks :\"))\n",
    "isl = int(input(\"enter the marks :\"))\n",
    "urdu = int(input(\"enter the marks :\"))\n",
    "math = int(input(\"enter the marks :\"))\n",
    "computer = int(input(\"enter the marks :\"))\n",
    "sum = eng + isl + urdu + math + computer\n",
    "total = 500\n",
    "percentage = (sum/total)*100\n",
    "if percentage<=100 and percentage>=90:\n",
    "    print(\"grade :A-1\")\n",
    "elif percentage<90 and percentage>=80:\n",
    "    print(\"grade :A\")\n",
    "elif percentage<80 and percentage>=70:\n",
    "    print(\"grade :B\")\n",
    "elif percentage<70 and percentage>=60:\n",
    "    print(\"grade :C\")\n",
    "elif percentage<60 and percentage>=50:\n",
    "    print(\"grade :D\")\n",
    "elif percentage<50 and percentage>=40:\n",
    "    print(\"grade :E\")\n",
    "else:\n",
    "    print(\"fail\")"
   ]
  },
  {
   "cell_type": "code",
   "execution_count": 8,
   "id": "2b196392",
   "metadata": {},
   "outputs": [
    {
     "name": "stdout",
     "output_type": "stream",
     "text": [
      "enter the number :20\n",
      "the number 20 is even\n"
     ]
    }
   ],
   "source": [
    "# 8. write a program which take input from the user and identify that the given number is even or odd?\n",
    "\n",
    "num = int(input(\"enter the number :\"))\n",
    "if num%2==0:\n",
    "    print(f\"the number {num} is even\")\n",
    "else:\n",
    "    print(f\"the number {num} is odd\")"
   ]
  },
  {
   "cell_type": "code",
   "execution_count": 9,
   "id": "e23e0f69",
   "metadata": {},
   "outputs": [
    {
     "name": "stdout",
     "output_type": "stream",
     "text": [
      "the length of the list is  5\n"
     ]
    }
   ],
   "source": [
    "# 9. write a program which print the length of the list?\n",
    "\n",
    "list = [\"apple\", \"banana\", \"grapes\", \"mangoes\", \"watermelon\"]\n",
    "length = len(list)\n",
    "print(\"the length of the list is \",length)"
   ]
  },
  {
   "cell_type": "code",
   "execution_count": 10,
   "id": "8600a56d",
   "metadata": {},
   "outputs": [
    {
     "name": "stdout",
     "output_type": "stream",
     "text": [
      "6\n"
     ]
    }
   ],
   "source": [
    "# 10. write a python program to sum all the numeric items in a list?\n",
    "\n",
    "def sum_list(items):\n",
    "    sum_numbers = 0\n",
    "    for x in items:\n",
    "        sum_numbers += x\n",
    "    return sum_numbers\n",
    "print(sum_list([1,2,3]))"
   ]
  },
  {
   "cell_type": "code",
   "execution_count": 11,
   "id": "c0ab7578",
   "metadata": {},
   "outputs": [
    {
     "name": "stdout",
     "output_type": "stream",
     "text": [
      "the largest number is : 99\n"
     ]
    }
   ],
   "source": [
    "# 11. write a python program to get the largest number from a numeric list.\n",
    "\n",
    "num_list = [50,40,75,80,99]\n",
    "print(\"the largest number is :\", max(num_list))"
   ]
  },
  {
   "cell_type": "code",
   "execution_count": 12,
   "id": "ee335f19",
   "metadata": {},
   "outputs": [
    {
     "name": "stdout",
     "output_type": "stream",
     "text": [
      "1\n",
      "1\n",
      "2\n",
      "3\n"
     ]
    }
   ],
   "source": [
    "# 12. take a list, as given in program. write a program that prints out all the elements of the list that are less than 5.\n",
    "\n",
    "a = [1,1,2,3,5,8,13,21,34,55,89]\n",
    "for i in a:\n",
    "    if i < 5:\n",
    "        print(i)"
   ]
  },
  {
   "cell_type": "code",
   "execution_count": null,
   "id": "ae36c14a",
   "metadata": {},
   "outputs": [],
   "source": []
  }
 ],
 "metadata": {
  "kernelspec": {
   "display_name": "Python 3",
   "language": "python",
   "name": "python3"
  },
  "language_info": {
   "codemirror_mode": {
    "name": "ipython",
    "version": 3
   },
   "file_extension": ".py",
   "mimetype": "text/x-python",
   "name": "python",
   "nbconvert_exporter": "python",
   "pygments_lexer": "ipython3",
   "version": "3.8.8"
  }
 },
 "nbformat": 4,
 "nbformat_minor": 5
}
